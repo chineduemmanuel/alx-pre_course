{
  "nbformat": 4,
  "nbformat_minor": 0,
  "metadata": {
    "colab": {
      "provenance": [],
      "include_colab_link": true
    },
    "kernelspec": {
      "name": "python3",
      "display_name": "Python 3"
    },
    "language_info": {
      "name": "python"
    }
  },
  "cells": [
    {
      "cell_type": "markdown",
      "metadata": {
        "id": "view-in-github",
        "colab_type": "text"
      },
      "source": [
        "<a href=\"https://colab.research.google.com/github/chineduemmanuel/alx-pre_course/blob/main/Data_Science_Lifecycle.ipynb\" target=\"_parent\"><img src=\"https://colab.research.google.com/assets/colab-badge.svg\" alt=\"Open In Colab\"/></a>"
      ]
    },
    {
      "cell_type": "markdown",
      "source": [
        "## How to use Colaboratory notebook\n",
        "\n",
        "This notebook includes an example of using `numpy` library to create a $3\\times4$ matrix filled with random numbers between 1 and 10."
      ],
      "metadata": {
        "id": "A8Lwzt0fknO5"
      }
    },
    {
      "cell_type": "code",
      "execution_count": 2,
      "metadata": {
        "id": "-z0B0306gNbd",
        "outputId": "ff20ab0e-645f-4e5f-8aad-a282ee54f9b4",
        "colab": {
          "base_uri": "https://localhost:8080/"
        }
      },
      "outputs": [
        {
          "output_type": "stream",
          "name": "stdout",
          "text": [
            "Random Numbers:\n",
            "[[13  8 12 13]\n",
            " [10  9 12 14]\n",
            " [ 5 11  9 14]\n",
            " [14 12  6 10]]\n"
          ]
        }
      ],
      "source": [
        "import numpy as np\n",
        "\n",
        "# Create an array of random numbers\n",
        "random_nums = np.random.randint(low=5, high=15, size=(4, 4))\n",
        "print(\"Random Numbers:\")\n",
        "print(random_nums)"
      ]
    },
    {
      "cell_type": "code",
      "source": [
        "# Calculate the sum, minimum, and maximum of the array\n",
        "print(\"\\nSum:\", np.sum(random_nums))\n",
        "print(\"Minimum:\", np.min(random_nums))\n",
        "print(\"Maximum:\", np.max(random_nums))"
      ],
      "metadata": {
        "id": "mROX9XfKj7b1",
        "outputId": "93ac2eaa-24ef-4a02-9f6a-8b87dcd48368",
        "colab": {
          "base_uri": "https://localhost:8080/"
        }
      },
      "execution_count": 3,
      "outputs": [
        {
          "output_type": "stream",
          "name": "stdout",
          "text": [
            "\n",
            "Sum: 172\n",
            "Minimum: 5\n",
            "Maximum: 14\n"
          ]
        }
      ]
    }
  ]
}